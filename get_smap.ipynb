{
 "cells": [
  {
   "cell_type": "code",
   "execution_count": null,
   "metadata": {},
   "outputs": [],
   "source": [
    "import earthaccess\n",
    "import pandas as pd\n",
    "import xarray as xr\n",
    "import shutil\n",
    "import os"
   ]
  },
  {
   "cell_type": "code",
   "execution_count": 2,
   "metadata": {},
   "outputs": [
    {
     "data": {
      "text/plain": [
       "<earthaccess.auth.Auth at 0x1e627e5e560>"
      ]
     },
     "execution_count": 2,
     "metadata": {},
     "output_type": "execute_result"
    }
   ],
   "source": [
    "earthaccess.login(persist=True)"
   ]
  },
  {
   "cell_type": "code",
   "execution_count": 6,
   "metadata": {},
   "outputs": [
    {
     "data": {
      "text/html": [
       "<div>\n",
       "<style scoped>\n",
       "    .dataframe tbody tr th:only-of-type {\n",
       "        vertical-align: middle;\n",
       "    }\n",
       "\n",
       "    .dataframe tbody tr th {\n",
       "        vertical-align: top;\n",
       "    }\n",
       "\n",
       "    .dataframe thead th {\n",
       "        text-align: right;\n",
       "    }\n",
       "</style>\n",
       "<table border=\"1\" class=\"dataframe\">\n",
       "  <thead>\n",
       "    <tr style=\"text-align: right;\">\n",
       "      <th></th>\n",
       "      <th>event_date</th>\n",
       "      <th>landslide_trigger</th>\n",
       "      <th>landslide_size</th>\n",
       "      <th>fatality_count</th>\n",
       "      <th>injury_count</th>\n",
       "      <th>latitude</th>\n",
       "      <th>longitude</th>\n",
       "      <th>start_date</th>\n",
       "    </tr>\n",
       "  </thead>\n",
       "  <tbody>\n",
       "    <tr>\n",
       "      <th>184</th>\n",
       "      <td>2015-04-28</td>\n",
       "      <td>continuous_rain</td>\n",
       "      <td>small</td>\n",
       "      <td>0.0</td>\n",
       "      <td>0.0</td>\n",
       "      <td>30.5631</td>\n",
       "      <td>79.5765</td>\n",
       "      <td>2015-04-19</td>\n",
       "    </tr>\n",
       "    <tr>\n",
       "      <th>185</th>\n",
       "      <td>2015-04-30</td>\n",
       "      <td>continuous_rain</td>\n",
       "      <td>small</td>\n",
       "      <td>0.0</td>\n",
       "      <td>0.0</td>\n",
       "      <td>30.5568</td>\n",
       "      <td>79.5541</td>\n",
       "      <td>2015-04-21</td>\n",
       "    </tr>\n",
       "    <tr>\n",
       "      <th>186</th>\n",
       "      <td>2015-06-21</td>\n",
       "      <td>rain</td>\n",
       "      <td>small</td>\n",
       "      <td>0.0</td>\n",
       "      <td>0.0</td>\n",
       "      <td>30.0261</td>\n",
       "      <td>78.6278</td>\n",
       "      <td>2015-06-12</td>\n",
       "    </tr>\n",
       "    <tr>\n",
       "      <th>187</th>\n",
       "      <td>2015-06-25</td>\n",
       "      <td>downpour</td>\n",
       "      <td>medium</td>\n",
       "      <td>0.0</td>\n",
       "      <td>0.0</td>\n",
       "      <td>30.6838</td>\n",
       "      <td>79.0479</td>\n",
       "      <td>2015-06-16</td>\n",
       "    </tr>\n",
       "    <tr>\n",
       "      <th>188</th>\n",
       "      <td>2015-07-06</td>\n",
       "      <td>downpour</td>\n",
       "      <td>medium</td>\n",
       "      <td>0.0</td>\n",
       "      <td>0.0</td>\n",
       "      <td>29.3930</td>\n",
       "      <td>79.4525</td>\n",
       "      <td>2015-06-27</td>\n",
       "    </tr>\n",
       "  </tbody>\n",
       "</table>\n",
       "</div>"
      ],
      "text/plain": [
       "    event_date landslide_trigger landslide_size  fatality_count  injury_count  \\\n",
       "184 2015-04-28   continuous_rain          small             0.0           0.0   \n",
       "185 2015-04-30   continuous_rain          small             0.0           0.0   \n",
       "186 2015-06-21              rain          small             0.0           0.0   \n",
       "187 2015-06-25          downpour         medium             0.0           0.0   \n",
       "188 2015-07-06          downpour         medium             0.0           0.0   \n",
       "\n",
       "     latitude  longitude start_date  \n",
       "184   30.5631    79.5765 2015-04-19  \n",
       "185   30.5568    79.5541 2015-04-21  \n",
       "186   30.0261    78.6278 2015-06-12  \n",
       "187   30.6838    79.0479 2015-06-16  \n",
       "188   29.3930    79.4525 2015-06-27  "
      ]
     },
     "execution_count": 6,
     "metadata": {},
     "output_type": "execute_result"
    }
   ],
   "source": [
    "data = pd.read_csv('landslide_data.csv')\n",
    "data.drop(\"Unnamed: 0\",axis=1, inplace=True)\n",
    "data['event_date'] = pd.to_datetime(data['event_date'])\n",
    "data = data[((data['event_date']-pd.to_datetime('2015-03-31'))>pd.to_timedelta(0,'s'))]\n",
    "data['start_date'] =  -pd.to_timedelta(9, 'D') + data['event_date']\n",
    "data.head()"
   ]
  },
  {
   "cell_type": "code",
   "execution_count": 13,
   "metadata": {},
   "outputs": [],
   "source": [
    "def delete_files(i):\n",
    "    if i<3:\n",
    "        return\n",
    "    path = os.path.abspath(f'.\\\\smap_temp\\\\{i-3}')\n",
    "    print(path)\n",
    "    shutil.rmtree(path)\n",
    "    return\n",
    "\n",
    "def print_structure(name, obj):\n",
    "    print(name)"
   ]
  },
  {
   "cell_type": "code",
   "execution_count": null,
   "metadata": {},
   "outputs": [
    {
     "data": {
      "application/vnd.jupyter.widget-view+json": {
       "model_id": "f67fcc6ac0eb4d7a9312104cc1f5a1b4",
       "version_major": 2,
       "version_minor": 0
      },
      "text/plain": [
       "QUEUEING TASKS | :   0%|          | 0/10 [00:00<?, ?it/s]"
      ]
     },
     "metadata": {},
     "output_type": "display_data"
    },
    {
     "data": {
      "application/vnd.jupyter.widget-view+json": {
       "model_id": "d9cc7fa0f5014c9db58d68cefd80f0c6",
       "version_major": 2,
       "version_minor": 0
      },
      "text/plain": [
       "PROCESSING TASKS | :   0%|          | 0/10 [00:00<?, ?it/s]"
      ]
     },
     "metadata": {},
     "output_type": "display_data"
    }
   ],
   "source": [
    "for i, incident in data.iterrows():\n",
    "    if i>184:\n",
    "        break  \n",
    "    end_date = incident['event_date'].strftime(format=\"%Y-%m-%d\")\n",
    "    start_date = incident['start_date'].strftime(format=\"%Y-%m-%d\")\n",
    "    lat = incident['latitude']\n",
    "    lon = incident['longitude'] \n",
    "    results = earthaccess.search_data(\n",
    "        doi = \"10.5067/M20OXIZHY3RJ\",\n",
    "        bounding_box = (lon-0.1,lat-0.1,lon+0.1,lat+0.1),\n",
    "        temporal = (start_date,end_date)\n",
    "    )\n",
    "    downloaded_files = earthaccess.download(results,local_path = f'.\\\\smap_temp\\\\', threads=10)\n",
    "    # smap_data = xr.open_mfdataset(downloaded_files)\n",
    "    # filtered_data = smap_data.sel(lat=lat, lon=lon, method=\"nearest\")\n",
    "    # df = filtered_data.to_dataframe()\n",
    "    # df.to_csv(f'./smap_data/row_{i}.csv')\n",
    "    # del smap_data\n",
    "    # del filtered_data\n",
    "    # del df\n",
    "    # del results\n",
    "    # delete_files(i)"
   ]
  }
 ],
 "metadata": {
  "kernelspec": {
   "display_name": "Python 3",
   "language": "python",
   "name": "python3"
  },
  "language_info": {
   "codemirror_mode": {
    "name": "ipython",
    "version": 3
   },
   "file_extension": ".py",
   "mimetype": "text/x-python",
   "name": "python",
   "nbconvert_exporter": "python",
   "pygments_lexer": "ipython3",
   "version": "3.10.1"
  }
 },
 "nbformat": 4,
 "nbformat_minor": 2
}
